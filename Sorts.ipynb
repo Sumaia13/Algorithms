def insertionSort(A):
    length = len(A)

    for j in range(1, length):
        key = A[j]
        i = j - 1
        while i > -1 and A[i] > key:
            A[i + 1] = A[i]
            i = i - 1
        A[i + 1] = key

    print(A)


def selectionSort(A):
    for i in range(len(A)):

        mini = i
        for j in range(i + 1, len(A)):
            if A[mini] > A[j]:
                mini = j

        A[i], A[mini] = A[mini], A[i]

    print(A)


def bubbleSort(A):
    for n in range(len(A) - 1, 0, -1):
        for i in range(n):
            if A[i] > A[i + 1]:
                t = A[i]
                A[i] = A[i + 1]
                A[i + 1] = t

    print(A)



def mergeSort(A):
    if len(A) > 1:
        m= len(A) // 2
        l= A[:m]
        r= A[m:]

        mergeSort(l)
        mergeSort(r)

        i = 0
        j = 0

        k = 0

        while i < len(l) and j < len(r):
            if l[i] < r[j]:
                A[k] = l[i]
                i += 1
            else:
                A[k] = r[j]
                j += 1
            k += 1


        while i < len(l):
            A[k] = l[i]
            i += 1
            k += 1

        while j < len(r):
            A[k] = r[j]
            j += 1
            k += 1

A = [12, 1, 23, 4, 34, 11, 49]
def countingSort(A, maxx):
    m = maxx + 1
    count = [0] * m

    for a in A:
        count[a] += 1
    i = 0
    for a in range(m):
        for c in range(count[a]):
            A[i] = a
            i += 1
    return A

A = [12, 1, 23, 4, 34, 11, 49]
print(A)

A = [12, 1, 23, 4, 34, 11, 49]
print('Insertion Sort:')
insertionSort(A)
print('...')

A = [12, 1, 23, 4, 34, 11, 49]
print('Bubble Sort:')
bubbleSort(A)
print('...')

A = [12, 1, 23, 4, 34, 11, 49]
print('Selection Sort:')
selectionSort(A)
print('...')

A = [12, 1, 23, 4, 34, 11, 49]
mergeSort(A)
print('Merge Sort:')
print(A)
print('...')

A = [12, 1, 23, 4, 34, 11, 49]
maxx = 0
for i in range(0, len(A)):
    if maxx < A[i]:
        maxx = A[i]
print('Counting Sort:')
print(countingSort(A, maxx))
